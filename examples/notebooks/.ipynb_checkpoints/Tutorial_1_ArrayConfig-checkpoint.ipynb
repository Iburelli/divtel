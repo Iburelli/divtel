{
 "cells": [
  {
   "cell_type": "code",
   "execution_count": 1,
   "metadata": {},
   "outputs": [],
   "source": [
    "%matplotlib notebook"
   ]
  },
  {
   "cell_type": "code",
   "execution_count": 1,
   "metadata": {},
   "outputs": [],
   "source": [
    "from divtel import *\n",
    "from divtel.ArrayConfig import *"
   ]
  },
  {
   "cell_type": "markdown",
   "metadata": {},
   "source": [
    "## Load a CTA configuration"
   ]
  },
  {
   "cell_type": "code",
   "execution_count": 2,
   "metadata": {},
   "outputs": [],
   "source": [
    "# Note that if the radius is in meters, \n",
    "# you can set LoadConfig(file, radius=\"meters\")\n",
    "# defalut is in degrees\n",
    "\n",
    "array = LoadConfig(\"../layout/layout-3AL4M15-5.txt\")"
   ]
  },
  {
   "cell_type": "markdown",
   "metadata": {},
   "source": [
    "## Check configuration table"
   ]
  },
  {
   "cell_type": "code",
   "execution_count": 3,
   "metadata": {},
   "outputs": [
    {
     "data": {
      "text/html": [
       "<div><i>Table length=19</i>\n",
       "<table id=\"table140303710542192\" class=\"table-striped table-bordered table-condensed\">\n",
       "<thead><tr><th>id</th><th>x</th><th>y</th><th>z</th><th>az</th><th>alt</th><th>zn</th><th>focal</th><th>radius</th><th>fov</th><th>p_x</th><th>p_y</th><th>p_z</th><th>d_tel</th></tr></thead>\n",
       "<thead><tr><th></th><th>m</th><th>m</th><th>m</th><th>rad</th><th>rad</th><th>rad</th><th>m</th><th>m</th><th>rad2</th><th></th><th></th><th></th><th>m</th></tr></thead>\n",
       "<thead><tr><th>int64</th><th>float64</th><th>float64</th><th>float64</th><th>float64</th><th>float64</th><th>float64</th><th>float64</th><th>float64</th><th>float64</th><th>float64</th><th>float64</th><th>float64</th><th>float64</th></tr></thead>\n",
       "<tr><td>1</td><td>-70.04</td><td>-7.23</td><td>54.0</td><td>0.000</td><td>0.000</td><td>1.571</td><td>28.000</td><td>1.051</td><td>0.004</td><td>1.000</td><td>-0.000</td><td>0.000</td><td>34.63</td></tr>\n",
       "<tr><td>2</td><td>-34.37</td><td>110.98</td><td>43.0</td><td>0.000</td><td>0.000</td><td>1.571</td><td>28.000</td><td>1.051</td><td>0.004</td><td>1.000</td><td>-0.000</td><td>0.000</td><td>94.18</td></tr>\n",
       "<tr><td>3</td><td>76.18</td><td>95.34</td><td>39.7</td><td>0.000</td><td>0.000</td><td>1.571</td><td>28.000</td><td>1.051</td><td>0.004</td><td>1.000</td><td>-0.000</td><td>0.000</td><td>166.98</td></tr>\n",
       "<tr><td>4</td><td>31.81</td><td>-19.7</td><td>43.0</td><td>0.000</td><td>0.000</td><td>1.571</td><td>28.000</td><td>1.051</td><td>0.004</td><td>1.000</td><td>-0.000</td><td>0.000</td><td>117.20</td></tr>\n",
       "<tr><td>5</td><td>-210.65</td><td>50.51</td><td>61.3</td><td>0.000</td><td>0.000</td><td>1.571</td><td>16.000</td><td>1.077</td><td>0.014</td><td>1.000</td><td>-0.000</td><td>0.000</td><td>137.60</td></tr>\n",
       "<tr><td>6</td><td>-179.06</td><td>223.02</td><td>42.1</td><td>0.000</td><td>0.000</td><td>1.571</td><td>16.000</td><td>1.077</td><td>0.014</td><td>1.000</td><td>-0.000</td><td>0.000</td><td>222.09</td></tr>\n",
       "<tr><td>7</td><td>27.96</td><td>243.56</td><td>23.2</td><td>0.000</td><td>0.000</td><td>1.571</td><td>16.000</td><td>1.077</td><td>0.014</td><td>1.000</td><td>-0.000</td><td>0.000</td><td>241.86</td></tr>\n",
       "<tr><td>8</td><td>176.27</td><td>127.9</td><td>19.3</td><td>0.000</td><td>0.000</td><td>1.571</td><td>16.000</td><td>1.077</td><td>0.014</td><td>1.000</td><td>-0.000</td><td>0.000</td><td>273.21</td></tr>\n",
       "<tr><td>9</td><td>124.21</td><td>-134.56</td><td>39.6</td><td>0.000</td><td>0.000</td><td>1.571</td><td>16.000</td><td>1.077</td><td>0.014</td><td>1.000</td><td>-0.000</td><td>0.000</td><td>256.94</td></tr>\n",
       "<tr><td>10</td><td>-74.73</td><td>-144.16</td><td>53.2</td><td>0.000</td><td>0.000</td><td>1.571</td><td>16.000</td><td>1.077</td><td>0.014</td><td>1.000</td><td>-0.000</td><td>0.000</td><td>170.79</td></tr>\n",
       "<tr><td>11</td><td>-214.79</td><td>-122.52</td><td>74.1</td><td>0.000</td><td>0.000</td><td>1.571</td><td>16.000</td><td>1.077</td><td>0.014</td><td>1.000</td><td>-0.000</td><td>0.000</td><td>205.43</td></tr>\n",
       "<tr><td>12</td><td>-98.11</td><td>376.45</td><td>20.7</td><td>0.000</td><td>0.000</td><td>1.571</td><td>16.000</td><td>1.077</td><td>0.014</td><td>1.000</td><td>-0.000</td><td>0.000</td><td>351.74</td></tr>\n",
       "<tr><td>13</td><td>21.08</td><td>-307.61</td><td>73.3</td><td>0.000</td><td>0.000</td><td>1.571</td><td>16.000</td><td>1.077</td><td>0.014</td><td>1.000</td><td>-0.000</td><td>0.000</td><td>348.76</td></tr>\n",
       "<tr><td>14</td><td>-196.4</td><td>-290.24</td><td>88.1</td><td>0.000</td><td>0.000</td><td>1.571</td><td>16.000</td><td>1.077</td><td>0.014</td><td>1.000</td><td>-0.000</td><td>0.000</td><td>341.27</td></tr>\n",
       "<tr><td>15</td><td>0.9</td><td>44.85</td><td>40.0</td><td>0.000</td><td>0.000</td><td>1.571</td><td>16.000</td><td>1.077</td><td>0.014</td><td>1.000</td><td>-0.000</td><td>0.000</td><td>79.27</td></tr>\n",
       "<tr><td>16</td><td>-302.85</td><td>384.6</td><td>3.3</td><td>0.000</td><td>0.000</td><td>1.571</td><td>16.000</td><td>1.077</td><td>0.014</td><td>1.000</td><td>-0.000</td><td>0.000</td><td>426.47</td></tr>\n",
       "<tr><td>17</td><td>-345.0</td><td>175.0</td><td>69.0</td><td>0.000</td><td>0.000</td><td>1.571</td><td>16.000</td><td>1.077</td><td>0.014</td><td>1.000</td><td>-0.000</td><td>0.000</td><td>308.14</td></tr>\n",
       "<tr><td>18</td><td>-374.99</td><td>-33.39</td><td>92.6</td><td>0.000</td><td>0.000</td><td>1.571</td><td>16.000</td><td>1.077</td><td>0.014</td><td>1.000</td><td>-0.000</td><td>0.000</td><td>308.33</td></tr>\n",
       "<tr><td>19</td><td>204.28</td><td>-267.84</td><td>53.0</td><td>0.000</td><td>0.000</td><td>1.571</td><td>16.000</td><td>1.077</td><td>0.014</td><td>1.000</td><td>-0.000</td><td>0.000</td><td>406.31</td></tr>\n",
       "</table></div>"
      ],
      "text/plain": [
       "<Table length=19>\n",
       "  id     x       y       z       az   ...   p_x     p_y     p_z    d_tel \n",
       "         m       m       m      rad   ...                            m   \n",
       "int64 float64 float64 float64 float64 ... float64 float64 float64 float64\n",
       "----- ------- ------- ------- ------- ... ------- ------- ------- -------\n",
       "    1  -70.04   -7.23    54.0   0.000 ...   1.000  -0.000   0.000   34.63\n",
       "    2  -34.37  110.98    43.0   0.000 ...   1.000  -0.000   0.000   94.18\n",
       "    3   76.18   95.34    39.7   0.000 ...   1.000  -0.000   0.000  166.98\n",
       "    4   31.81   -19.7    43.0   0.000 ...   1.000  -0.000   0.000  117.20\n",
       "    5 -210.65   50.51    61.3   0.000 ...   1.000  -0.000   0.000  137.60\n",
       "    6 -179.06  223.02    42.1   0.000 ...   1.000  -0.000   0.000  222.09\n",
       "    7   27.96  243.56    23.2   0.000 ...   1.000  -0.000   0.000  241.86\n",
       "    8  176.27   127.9    19.3   0.000 ...   1.000  -0.000   0.000  273.21\n",
       "    9  124.21 -134.56    39.6   0.000 ...   1.000  -0.000   0.000  256.94\n",
       "   10  -74.73 -144.16    53.2   0.000 ...   1.000  -0.000   0.000  170.79\n",
       "   11 -214.79 -122.52    74.1   0.000 ...   1.000  -0.000   0.000  205.43\n",
       "   12  -98.11  376.45    20.7   0.000 ...   1.000  -0.000   0.000  351.74\n",
       "   13   21.08 -307.61    73.3   0.000 ...   1.000  -0.000   0.000  348.76\n",
       "   14  -196.4 -290.24    88.1   0.000 ...   1.000  -0.000   0.000  341.27\n",
       "   15     0.9   44.85    40.0   0.000 ...   1.000  -0.000   0.000   79.27\n",
       "   16 -302.85   384.6     3.3   0.000 ...   1.000  -0.000   0.000  426.47\n",
       "   17  -345.0   175.0    69.0   0.000 ...   1.000  -0.000   0.000  308.14\n",
       "   18 -374.99  -33.39    92.6   0.000 ...   1.000  -0.000   0.000  308.33\n",
       "   19  204.28 -267.84    53.0   0.000 ...   1.000  -0.000   0.000  406.31"
      ]
     },
     "execution_count": 3,
     "metadata": {},
     "output_type": "execute_result"
    }
   ],
   "source": [
    "array.table"
   ]
  },
  {
   "cell_type": "markdown",
   "metadata": {},
   "source": [
    "## Activate the divergent pointing mode"
   ]
  },
  {
   "cell_type": "code",
   "execution_count": 4,
   "metadata": {},
   "outputs": [],
   "source": [
    "array.divergent_pointing(div = 0.01, az = 180, alt = 70)\n",
    "\n",
    "#array.set_pointing_coord(az=180, alt=70)\n",
    "#array.divergent_pointing(0.01)"
   ]
  },
  {
   "cell_type": "markdown",
   "metadata": {},
   "source": [
    "## Check the average of the telescope array location"
   ]
  },
  {
   "cell_type": "code",
   "execution_count": 5,
   "metadata": {},
   "outputs": [
    {
     "data": {
      "text/plain": [
       "array([-75.7       ,  26.57684211,  49.07894737])"
      ]
     },
     "execution_count": 5,
     "metadata": {},
     "output_type": "execute_result"
    }
   ],
   "source": [
    "array.calc_mean([\"x\", \"y\", \"z\"])"
   ]
  },
  {
   "cell_type": "markdown",
   "metadata": {},
   "source": [
    "## Check the average of the telescope pointing vector"
   ]
  },
  {
   "cell_type": "code",
   "execution_count": 6,
   "metadata": {},
   "outputs": [
    {
     "data": {
      "text/plain": [
       "array([-3.42752210e-01, -3.57037351e-05,  9.38964334e-01])"
      ]
     },
     "execution_count": 6,
     "metadata": {},
     "output_type": "execute_result"
    }
   ],
   "source": [
    "array.calc_mean([\"p_x\", \"p_y\", \"p_z\"])"
   ]
  },
  {
   "cell_type": "markdown",
   "metadata": {},
   "source": [
    "## Check the hyper field of view (hFoV)"
   ]
  },
  {
   "cell_type": "code",
   "execution_count": 7,
   "metadata": {},
   "outputs": [
    {
     "data": {
      "text/latex": [
       "$107.87515 \\; \\mathrm{deg^{2}}$"
      ],
      "text/plain": [
       "<Quantity 107.87515493 deg2>"
      ]
     },
     "execution_count": 7,
     "metadata": {},
     "output_type": "execute_result"
    }
   ],
   "source": [
    "array.hFoV(m_cut=3)"
   ]
  },
  {
   "cell_type": "markdown",
   "metadata": {},
   "source": [
    "## Convert (radians or meters) to degrees"
   ]
  },
  {
   "cell_type": "code",
   "execution_count": 8,
   "metadata": {},
   "outputs": [
    {
     "data": {
      "text/html": [
       "<div><i>Table length=19</i>\n",
       "<table id=\"table140303710409248\" class=\"table-striped table-bordered table-condensed\">\n",
       "<thead><tr><th>id</th><th>x</th><th>y</th><th>z</th><th>az</th><th>alt</th><th>zn</th><th>focal</th><th>radius</th><th>fov</th><th>p_x</th><th>p_y</th><th>p_z</th><th>d_tel</th></tr></thead>\n",
       "<thead><tr><th></th><th>m</th><th>m</th><th>m</th><th>deg</th><th>deg</th><th>deg</th><th>m</th><th>deg</th><th>deg2</th><th></th><th></th><th></th><th>m</th></tr></thead>\n",
       "<thead><tr><th>int64</th><th>float64</th><th>float64</th><th>float64</th><th>float64</th><th>float64</th><th>float64</th><th>float64</th><th>float64</th><th>float64</th><th>float64</th><th>float64</th><th>float64</th><th>float64</th></tr></thead>\n",
       "<tr><td>1</td><td>-70.04</td><td>-7.23</td><td>54.0</td><td>179.433</td><td>70.039</td><td>19.961</td><td>28.000</td><td>2.150</td><td>14.536</td><td>-0.341</td><td>-0.003</td><td>0.940</td><td>34.63</td></tr>\n",
       "<tr><td>2</td><td>-34.37</td><td>110.98</td><td>43.0</td><td>181.431</td><td>70.205</td><td>19.795</td><td>28.000</td><td>2.150</td><td>14.536</td><td>-0.339</td><td>0.008</td><td>0.941</td><td>94.18</td></tr>\n",
       "<tr><td>3</td><td>76.18</td><td>95.34</td><td>39.7</td><td>181.205</td><td>70.800</td><td>19.200</td><td>28.000</td><td>2.150</td><td>14.536</td><td>-0.329</td><td>0.007</td><td>0.944</td><td>166.98</td></tr>\n",
       "<tr><td>4</td><td>31.81</td><td>-19.7</td><td>43.0</td><td>179.200</td><td>70.568</td><td>19.432</td><td>28.000</td><td>2.150</td><td>14.536</td><td>-0.333</td><td>-0.005</td><td>0.943</td><td>117.20</td></tr>\n",
       "<tr><td>5</td><td>-210.65</td><td>50.51</td><td>61.3</td><td>180.386</td><td>69.301</td><td>20.699</td><td>16.000</td><td>3.850</td><td>46.707</td><td>-0.353</td><td>0.002</td><td>0.935</td><td>137.60</td></tr>\n",
       "<tr><td>6</td><td>-179.06</td><td>223.02</td><td>42.1</td><td>183.191</td><td>69.402</td><td>20.598</td><td>16.000</td><td>3.850</td><td>46.707</td><td>-0.351</td><td>0.020</td><td>0.936</td><td>222.09</td></tr>\n",
       "<tr><td>7</td><td>27.96</td><td>243.56</td><td>23.2</td><td>183.743</td><td>70.472</td><td>19.528</td><td>16.000</td><td>3.850</td><td>46.707</td><td>-0.334</td><td>0.022</td><td>0.942</td><td>241.86</td></tr>\n",
       "<tr><td>8</td><td>176.27</td><td>127.9</td><td>19.3</td><td>181.832</td><td>71.304</td><td>18.696</td><td>16.000</td><td>3.850</td><td>46.707</td><td>-0.320</td><td>0.010</td><td>0.947</td><td>273.21</td></tr>\n",
       "<tr><td>9</td><td>124.21</td><td>-134.56</td><td>39.6</td><td>177.135</td><td>71.044</td><td>18.956</td><td>16.000</td><td>3.850</td><td>46.707</td><td>-0.324</td><td>-0.016</td><td>0.946</td><td>256.94</td></tr>\n",
       "<tr><td>10</td><td>-74.73</td><td>-144.16</td><td>53.2</td><td>177.141</td><td>69.990</td><td>20.010</td><td>16.000</td><td>3.850</td><td>46.707</td><td>-0.342</td><td>-0.017</td><td>0.940</td><td>170.79</td></tr>\n",
       "<tr><td>11</td><td>-214.79</td><td>-122.52</td><td>74.1</td><td>177.601</td><td>69.288</td><td>20.712</td><td>16.000</td><td>3.850</td><td>46.707</td><td>-0.353</td><td>-0.015</td><td>0.935</td><td>205.43</td></tr>\n",
       "<tr><td>12</td><td>-98.11</td><td>376.45</td><td>20.7</td><td>185.803</td><td>69.728</td><td>20.272</td><td>16.000</td><td>3.850</td><td>46.707</td><td>-0.345</td><td>0.035</td><td>0.938</td><td>351.74</td></tr>\n",
       "<tr><td>13</td><td>21.08</td><td>-307.61</td><td>73.3</td><td>174.258</td><td>70.479</td><td>19.521</td><td>16.000</td><td>3.850</td><td>46.707</td><td>-0.332</td><td>-0.033</td><td>0.943</td><td>348.76</td></tr>\n",
       "<tr><td>14</td><td>-196.4</td><td>-290.24</td><td>88.1</td><td>174.887</td><td>69.356</td><td>20.644</td><td>16.000</td><td>3.850</td><td>46.707</td><td>-0.351</td><td>-0.031</td><td>0.936</td><td>341.27</td></tr>\n",
       "<tr><td>15</td><td>0.9</td><td>44.85</td><td>40.0</td><td>180.313</td><td>70.396</td><td>19.604</td><td>16.000</td><td>3.850</td><td>46.707</td><td>-0.336</td><td>0.002</td><td>0.942</td><td>79.27</td></tr>\n",
       "<tr><td>16</td><td>-302.85</td><td>384.6</td><td>3.3</td><td>185.606</td><td>68.599</td><td>21.401</td><td>16.000</td><td>3.850</td><td>46.707</td><td>-0.363</td><td>0.036</td><td>0.931</td><td>426.47</td></tr>\n",
       "<tr><td>17</td><td>-345.0</td><td>175.0</td><td>69.0</td><td>182.304</td><td>68.589</td><td>21.411</td><td>16.000</td><td>3.850</td><td>46.707</td><td>-0.365</td><td>0.015</td><td>0.931</td><td>308.14</td></tr>\n",
       "<tr><td>18</td><td>-374.99</td><td>-33.39</td><td>92.6</td><td>179.076</td><td>68.493</td><td>21.507</td><td>16.000</td><td>3.850</td><td>46.707</td><td>-0.367</td><td>-0.006</td><td>0.930</td><td>308.33</td></tr>\n",
       "<tr><td>19</td><td>204.28</td><td>-267.84</td><td>53.0</td><td>174.644</td><td>71.453</td><td>18.547</td><td>16.000</td><td>3.850</td><td>46.707</td><td>-0.317</td><td>-0.030</td><td>0.948</td><td>406.31</td></tr>\n",
       "</table></div>"
      ],
      "text/plain": [
       "<Table length=19>\n",
       "  id     x       y       z       az   ...   p_x     p_y     p_z    d_tel \n",
       "         m       m       m      deg   ...                            m   \n",
       "int64 float64 float64 float64 float64 ... float64 float64 float64 float64\n",
       "----- ------- ------- ------- ------- ... ------- ------- ------- -------\n",
       "    1  -70.04   -7.23    54.0 179.433 ...  -0.341  -0.003   0.940   34.63\n",
       "    2  -34.37  110.98    43.0 181.431 ...  -0.339   0.008   0.941   94.18\n",
       "    3   76.18   95.34    39.7 181.205 ...  -0.329   0.007   0.944  166.98\n",
       "    4   31.81   -19.7    43.0 179.200 ...  -0.333  -0.005   0.943  117.20\n",
       "    5 -210.65   50.51    61.3 180.386 ...  -0.353   0.002   0.935  137.60\n",
       "    6 -179.06  223.02    42.1 183.191 ...  -0.351   0.020   0.936  222.09\n",
       "    7   27.96  243.56    23.2 183.743 ...  -0.334   0.022   0.942  241.86\n",
       "    8  176.27   127.9    19.3 181.832 ...  -0.320   0.010   0.947  273.21\n",
       "    9  124.21 -134.56    39.6 177.135 ...  -0.324  -0.016   0.946  256.94\n",
       "   10  -74.73 -144.16    53.2 177.141 ...  -0.342  -0.017   0.940  170.79\n",
       "   11 -214.79 -122.52    74.1 177.601 ...  -0.353  -0.015   0.935  205.43\n",
       "   12  -98.11  376.45    20.7 185.803 ...  -0.345   0.035   0.938  351.74\n",
       "   13   21.08 -307.61    73.3 174.258 ...  -0.332  -0.033   0.943  348.76\n",
       "   14  -196.4 -290.24    88.1 174.887 ...  -0.351  -0.031   0.936  341.27\n",
       "   15     0.9   44.85    40.0 180.313 ...  -0.336   0.002   0.942   79.27\n",
       "   16 -302.85   384.6     3.3 185.606 ...  -0.363   0.036   0.931  426.47\n",
       "   17  -345.0   175.0    69.0 182.304 ...  -0.365   0.015   0.931  308.14\n",
       "   18 -374.99  -33.39    92.6 179.076 ...  -0.367  -0.006   0.930  308.33\n",
       "   19  204.28 -267.84    53.0 174.644 ...  -0.317  -0.030   0.948  406.31"
      ]
     },
     "execution_count": 8,
     "metadata": {},
     "output_type": "execute_result"
    }
   ],
   "source": [
    "array.table.units = \"deg\"\n",
    "array.table"
   ]
  },
  {
   "cell_type": "markdown",
   "metadata": {},
   "source": [
    "## Check the ICRS coordinate of the pointing"
   ]
  },
  {
   "cell_type": "code",
   "execution_count": 9,
   "metadata": {},
   "outputs": [
    {
     "name": "stdout",
     "output_type": "stream",
     "text": [
      "Observer         :  CTA North\n",
      "Location         :  Roque de los Muchachos , (5327.28509212, -1718.7771125, 3051.78673275) km\n",
      "Observation time :  2022-04-05T15:32:56.337\n"
     ]
    },
    {
     "data": {
      "text/plain": [
       "<SkyCoord (ICRS): (ra, dec) in deg\n",
       "    [(49.17319641,  8.72148459), (48.48657785,  8.89104868),\n",
       "     (48.57420907,  9.48443157), (49.24619782,  9.25076675),\n",
       "     (48.84081721,  7.98231635), (47.84483614,  8.10924713),\n",
       "     (47.70982913,  9.18733847), (48.37911042,  9.99266169),\n",
       "     (49.91943357,  9.74717072), (49.96650031,  8.69470183),\n",
       "     (49.83488449,  7.98673834), (46.94775169,  8.49604626),\n",
       "     (50.91757648,  9.24807083), (50.79696155,  8.11103711),\n",
       "     (48.87031807,  9.07692761), (46.91963533,  7.36522177),\n",
       "     (48.13199728,  7.28385302), (49.32106287,  7.17733916),\n",
       "     (50.70368109, 10.20811645)]>"
      ]
     },
     "execution_count": 9,
     "metadata": {},
     "output_type": "execute_result"
    }
   ],
   "source": [
    "array.frame.info\n",
    "array.get_pointing_coord(icrs=True)"
   ]
  },
  {
   "cell_type": "markdown",
   "metadata": {},
   "source": [
    "## Grouping telescopes"
   ]
  },
  {
   "cell_type": "code",
   "execution_count": 10,
   "metadata": {},
   "outputs": [
    {
     "data": {
      "text/plain": [
       "<AxesSubplot:xlabel='x [m]', ylabel='z [m]'>"
      ]
     },
     "execution_count": 10,
     "metadata": {},
     "output_type": "execute_result"
    },
    {
     "data": {
      "image/png": "[encoded data removed]",
      "text/plain": [
       "<Figure size 576x432 with 1 Axes>"
      ]
     },
     "metadata": {},
     "output_type": "display_data"
    }
   ],
   "source": [
    "group = {\"LST\": [1,2,3,4],\n",
    "        \"MST\": np.arange(5, 20)}\n",
    "\n",
    "sub_groups={'1': [5,17,18], \n",
    "            '2': [10,11,14],\n",
    "            '3': [7,15,8], \n",
    "            '4': [9,13,19],\n",
    "            '5': [6,12,16],\n",
    "            'LST': [1,2,3,4]}\n",
    "\n",
    "array.display(\"xz\", group=group)"
   ]
  },
  {
   "cell_type": "markdown",
   "metadata": {},
   "source": [
    "### Subarray barycenter"
   ]
  },
  {
   "cell_type": "code",
   "execution_count": 11,
   "metadata": {},
   "outputs": [],
   "source": [
    "from divtel.ArrayConfig import visualization as visual"
   ]
  },
  {
   "cell_type": "code",
   "execution_count": 12,
   "metadata": {},
   "outputs": [
    {
     "name": "stderr",
     "output_type": "stream",
     "text": [
      "No handles with labels found to put in legend.\n"
     ]
    },
    {
     "data": {
      "text/plain": [
       "<AxesSubplot:xlabel='x [m]', ylabel='z [m]'>"
      ]
     },
     "execution_count": 12,
     "metadata": {},
     "output_type": "execute_result"
    },
    {
     "data": {
      "image/png": "[encoded data removed]",
      "text/plain": [
       "<Figure size 576x432 with 1 Axes>"
      ]
     },
     "metadata": {},
     "output_type": "display_data"
    }
   ],
   "source": [
    "groupped_table, labels = array.group_by(sub_groups)\n",
    "visual.display_barycenter(groupped_table, proj=\"xz\", labels=labels)"
   ]
  },
  {
   "cell_type": "markdown",
   "metadata": {},
   "source": [
    "## Export cfg file"
   ]
  },
  {
   "cell_type": "code",
   "execution_count": 14,
   "metadata": {},
   "outputs": [
    {
     "ename": "FileNotFoundError",
     "evalue": "[Errno 2] No such file or directory: './output/abc.cfg'",
     "output_type": "error",
     "traceback": [
      "\u001b[0;31m---------------------------------------------------------------------------\u001b[0m",
      "\u001b[0;31mFileNotFoundError\u001b[0m                         Traceback (most recent call last)",
      "\u001b[0;32m<ipython-input-14-6542e66646b8>\u001b[0m in \u001b[0;36m<module>\u001b[0;34m\u001b[0m\n\u001b[0;32m----> 1\u001b[0;31m \u001b[0marray\u001b[0m\u001b[0;34m.\u001b[0m\u001b[0mexport_cfg\u001b[0m\u001b[0;34m(\u001b[0m\u001b[0mfilename\u001b[0m\u001b[0;34m=\u001b[0m\u001b[0;34m\"abc.cfg\"\u001b[0m\u001b[0;34m,\u001b[0m \u001b[0mverbose\u001b[0m\u001b[0;34m=\u001b[0m\u001b[0;32mTrue\u001b[0m\u001b[0;34m)\u001b[0m\u001b[0;34m\u001b[0m\u001b[0;34m\u001b[0m\u001b[0m\n\u001b[0m",
      "\u001b[0;32m~/Software/miniconda3/lib/python3.8/site-packages/divtel-0.1-py3.8.egg/divtel/ArrayConfig/array.py\u001b[0m in \u001b[0;36mexport_cfg\u001b[0;34m(self, filename, outdir, verbose)\u001b[0m\n\u001b[1;32m    478\u001b[0m                 str(self.pointing[\"alt\"].value).replace(\".\", \"_\"))\n\u001b[1;32m    479\u001b[0m \u001b[0;34m\u001b[0m\u001b[0m\n\u001b[0;32m--> 480\u001b[0;31m         \u001b[0;32mwith\u001b[0m \u001b[0mopen\u001b[0m\u001b[0;34m(\u001b[0m\u001b[0moutdir\u001b[0m\u001b[0;34m+\u001b[0m\u001b[0mfilename\u001b[0m\u001b[0;34m,\u001b[0m \u001b[0;34m'w'\u001b[0m\u001b[0;34m)\u001b[0m \u001b[0;32mas\u001b[0m \u001b[0mf\u001b[0m\u001b[0;34m:\u001b[0m\u001b[0;34m\u001b[0m\u001b[0;34m\u001b[0m\u001b[0m\n\u001b[0m\u001b[1;32m    481\u001b[0m             \u001b[0mf\u001b[0m\u001b[0;34m.\u001b[0m\u001b[0mwrite\u001b[0m\u001b[0;34m(\u001b[0m\u001b[0;34m'#ifndef TELESCOPE\\n'\u001b[0m\u001b[0;34m)\u001b[0m\u001b[0;34m\u001b[0m\u001b[0;34m\u001b[0m\u001b[0m\n\u001b[1;32m    482\u001b[0m             \u001b[0mf\u001b[0m\u001b[0;34m.\u001b[0m\u001b[0mwrite\u001b[0m\u001b[0;34m(\u001b[0m\u001b[0;34m'#  define TELESCOPE 0\\n'\u001b[0m\u001b[0;34m)\u001b[0m\u001b[0;34m\u001b[0m\u001b[0;34m\u001b[0m\u001b[0m\n",
      "\u001b[0;31mFileNotFoundError\u001b[0m: [Errno 2] No such file or directory: './output/abc.cfg'"
     ]
    }
   ],
   "source": [
    "array.export_cfg(verbose=True)"
   ]
  },
  {
   "cell_type": "markdown",
   "metadata": {},
   "source": [
    "## Display the telescope pointing"
   ]
  },
  {
   "cell_type": "markdown",
   "metadata": {},
   "source": [
    "### Simple display"
   ]
  },
  {
   "cell_type": "code",
   "execution_count": null,
   "metadata": {},
   "outputs": [],
   "source": [
    "# 1D\n",
    "array.display(\"y\")"
   ]
  },
  {
   "cell_type": "code",
   "execution_count": null,
   "metadata": {},
   "outputs": [],
   "source": [
    "# 2D\n",
    "array.display(\"xz\", group=group)"
   ]
  },
  {
   "cell_type": "code",
   "execution_count": null,
   "metadata": {},
   "outputs": [],
   "source": [
    "# 3D\n",
    "array.display(\"xyz\", group=group)"
   ]
  },
  {
   "cell_type": "code",
   "execution_count": null,
   "metadata": {
    "scrolled": false
   },
   "outputs": [],
   "source": [
    "# Skymap\n",
    "array.display('skymap')"
   ]
  },
  {
   "cell_type": "code",
   "execution_count": null,
   "metadata": {},
   "outputs": [],
   "source": [
    "# Multiplicity plot\n",
    "array.multiplicity_plot()"
   ]
  },
  {
   "cell_type": "code",
   "execution_count": null,
   "metadata": {},
   "outputs": [],
   "source": [
    "# Multiplicity plot\n",
    "array.skymap_polar()"
   ]
  },
  {
   "cell_type": "markdown",
   "metadata": {},
   "source": [
    "## Advanced display"
   ]
  },
  {
   "cell_type": "markdown",
   "metadata": {},
   "source": [
    "### Interactive"
   ]
  },
  {
   "cell_type": "code",
   "execution_count": null,
   "metadata": {},
   "outputs": [],
   "source": [
    "from divtel.ArrayConfig.visualization import *"
   ]
  },
  {
   "cell_type": "code",
   "execution_count": null,
   "metadata": {
    "scrolled": false
   },
   "outputs": [],
   "source": [
    "new_array = interactive_polar(array, group=group, overwrite=False)"
   ]
  },
  {
   "cell_type": "code",
   "execution_count": null,
   "metadata": {
    "scrolled": false
   },
   "outputs": [],
   "source": [
    "interactive_multiplicity(array, overwrite=True)"
   ]
  },
  {
   "cell_type": "code",
   "execution_count": null,
   "metadata": {},
   "outputs": [],
   "source": [
    "interactive_barycenter(array, \"xy\", group=sub_groups)"
   ]
  },
  {
   "cell_type": "code",
   "execution_count": null,
   "metadata": {},
   "outputs": [],
   "source": []
  },
  {
   "cell_type": "code",
   "execution_count": null,
   "metadata": {},
   "outputs": [],
   "source": []
  }
 ],
 "metadata": {
  "kernelspec": {
   "display_name": "Python 3",
   "language": "python",
   "name": "python3"
  },
  "language_info": {
   "codemirror_mode": {
    "name": "ipython",
    "version": 3
   },
   "file_extension": ".py",
   "mimetype": "text/x-python",
   "name": "python",
   "nbconvert_exporter": "python",
   "pygments_lexer": "ipython3",
   "version": "3.8.5"
  }
 },
 "nbformat": 4,
 "nbformat_minor": 4
}
